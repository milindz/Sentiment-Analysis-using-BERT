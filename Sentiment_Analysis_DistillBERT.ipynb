{
  "nbformat": 4,
  "nbformat_minor": 0,
  "metadata": {
    "colab": {
      "name": "Sentiment_Analysis_DistillBERT.ipynb",
      "provenance": [],
      "collapsed_sections": [],
      "toc_visible": true
    },
    "kernelspec": {
      "name": "python3",
      "display_name": "Python 3"
    },
    "language_info": {
      "name": "python"
    },
    "accelerator": "GPU",
    "widgets": {
      "application/vnd.jupyter.widget-state+json": {
        "41bec5b797e648a29b34240fa273529e": {
          "model_module": "@jupyter-widgets/controls",
          "model_name": "HBoxModel",
          "state": {
            "_view_name": "HBoxView",
            "_dom_classes": [],
            "_model_name": "HBoxModel",
            "_view_module": "@jupyter-widgets/controls",
            "_model_module_version": "1.5.0",
            "_view_count": null,
            "_view_module_version": "1.5.0",
            "box_style": "",
            "layout": "IPY_MODEL_f4478aa115c24a02ada6c6bbe9ca7454",
            "_model_module": "@jupyter-widgets/controls",
            "children": [
              "IPY_MODEL_faddf3b94dbb485394bbd8201c741502",
              "IPY_MODEL_9c40a18a4d4544798ac3341519e3a905"
            ]
          }
        },
        "f4478aa115c24a02ada6c6bbe9ca7454": {
          "model_module": "@jupyter-widgets/base",
          "model_name": "LayoutModel",
          "state": {
            "_view_name": "LayoutView",
            "grid_template_rows": null,
            "right": null,
            "justify_content": null,
            "_view_module": "@jupyter-widgets/base",
            "overflow": null,
            "_model_module_version": "1.2.0",
            "_view_count": null,
            "flex_flow": null,
            "width": null,
            "min_width": null,
            "border": null,
            "align_items": null,
            "bottom": null,
            "_model_module": "@jupyter-widgets/base",
            "top": null,
            "grid_column": null,
            "overflow_y": null,
            "overflow_x": null,
            "grid_auto_flow": null,
            "grid_area": null,
            "grid_template_columns": null,
            "flex": null,
            "_model_name": "LayoutModel",
            "justify_items": null,
            "grid_row": null,
            "max_height": null,
            "align_content": null,
            "visibility": null,
            "align_self": null,
            "height": null,
            "min_height": null,
            "padding": null,
            "grid_auto_rows": null,
            "grid_gap": null,
            "max_width": null,
            "order": null,
            "_view_module_version": "1.2.0",
            "grid_template_areas": null,
            "object_position": null,
            "object_fit": null,
            "grid_auto_columns": null,
            "margin": null,
            "display": null,
            "left": null
          }
        },
        "faddf3b94dbb485394bbd8201c741502": {
          "model_module": "@jupyter-widgets/controls",
          "model_name": "FloatProgressModel",
          "state": {
            "_view_name": "ProgressView",
            "style": "IPY_MODEL_1f985c7f86a0491d9a3c67945b1ec974",
            "_dom_classes": [],
            "description": "Downloading: 100%",
            "_model_name": "FloatProgressModel",
            "bar_style": "success",
            "max": 231508,
            "_view_module": "@jupyter-widgets/controls",
            "_model_module_version": "1.5.0",
            "value": 231508,
            "_view_count": null,
            "_view_module_version": "1.5.0",
            "orientation": "horizontal",
            "min": 0,
            "description_tooltip": null,
            "_model_module": "@jupyter-widgets/controls",
            "layout": "IPY_MODEL_9ede07faacaa42dca969af706bf4e780"
          }
        },
        "9c40a18a4d4544798ac3341519e3a905": {
          "model_module": "@jupyter-widgets/controls",
          "model_name": "HTMLModel",
          "state": {
            "_view_name": "HTMLView",
            "style": "IPY_MODEL_ba9ac09809aa42faa9f4ced4099ba728",
            "_dom_classes": [],
            "description": "",
            "_model_name": "HTMLModel",
            "placeholder": "​",
            "_view_module": "@jupyter-widgets/controls",
            "_model_module_version": "1.5.0",
            "value": " 232k/232k [00:02&lt;00:00, 113kB/s]",
            "_view_count": null,
            "_view_module_version": "1.5.0",
            "description_tooltip": null,
            "_model_module": "@jupyter-widgets/controls",
            "layout": "IPY_MODEL_5bec6086399e475cb853221f62c22536"
          }
        },
        "1f985c7f86a0491d9a3c67945b1ec974": {
          "model_module": "@jupyter-widgets/controls",
          "model_name": "ProgressStyleModel",
          "state": {
            "_view_name": "StyleView",
            "_model_name": "ProgressStyleModel",
            "description_width": "initial",
            "_view_module": "@jupyter-widgets/base",
            "_model_module_version": "1.5.0",
            "_view_count": null,
            "_view_module_version": "1.2.0",
            "bar_color": null,
            "_model_module": "@jupyter-widgets/controls"
          }
        },
        "9ede07faacaa42dca969af706bf4e780": {
          "model_module": "@jupyter-widgets/base",
          "model_name": "LayoutModel",
          "state": {
            "_view_name": "LayoutView",
            "grid_template_rows": null,
            "right": null,
            "justify_content": null,
            "_view_module": "@jupyter-widgets/base",
            "overflow": null,
            "_model_module_version": "1.2.0",
            "_view_count": null,
            "flex_flow": null,
            "width": null,
            "min_width": null,
            "border": null,
            "align_items": null,
            "bottom": null,
            "_model_module": "@jupyter-widgets/base",
            "top": null,
            "grid_column": null,
            "overflow_y": null,
            "overflow_x": null,
            "grid_auto_flow": null,
            "grid_area": null,
            "grid_template_columns": null,
            "flex": null,
            "_model_name": "LayoutModel",
            "justify_items": null,
            "grid_row": null,
            "max_height": null,
            "align_content": null,
            "visibility": null,
            "align_self": null,
            "height": null,
            "min_height": null,
            "padding": null,
            "grid_auto_rows": null,
            "grid_gap": null,
            "max_width": null,
            "order": null,
            "_view_module_version": "1.2.0",
            "grid_template_areas": null,
            "object_position": null,
            "object_fit": null,
            "grid_auto_columns": null,
            "margin": null,
            "display": null,
            "left": null
          }
        },
        "ba9ac09809aa42faa9f4ced4099ba728": {
          "model_module": "@jupyter-widgets/controls",
          "model_name": "DescriptionStyleModel",
          "state": {
            "_view_name": "StyleView",
            "_model_name": "DescriptionStyleModel",
            "description_width": "",
            "_view_module": "@jupyter-widgets/base",
            "_model_module_version": "1.5.0",
            "_view_count": null,
            "_view_module_version": "1.2.0",
            "_model_module": "@jupyter-widgets/controls"
          }
        },
        "5bec6086399e475cb853221f62c22536": {
          "model_module": "@jupyter-widgets/base",
          "model_name": "LayoutModel",
          "state": {
            "_view_name": "LayoutView",
            "grid_template_rows": null,
            "right": null,
            "justify_content": null,
            "_view_module": "@jupyter-widgets/base",
            "overflow": null,
            "_model_module_version": "1.2.0",
            "_view_count": null,
            "flex_flow": null,
            "width": null,
            "min_width": null,
            "border": null,
            "align_items": null,
            "bottom": null,
            "_model_module": "@jupyter-widgets/base",
            "top": null,
            "grid_column": null,
            "overflow_y": null,
            "overflow_x": null,
            "grid_auto_flow": null,
            "grid_area": null,
            "grid_template_columns": null,
            "flex": null,
            "_model_name": "LayoutModel",
            "justify_items": null,
            "grid_row": null,
            "max_height": null,
            "align_content": null,
            "visibility": null,
            "align_self": null,
            "height": null,
            "min_height": null,
            "padding": null,
            "grid_auto_rows": null,
            "grid_gap": null,
            "max_width": null,
            "order": null,
            "_view_module_version": "1.2.0",
            "grid_template_areas": null,
            "object_position": null,
            "object_fit": null,
            "grid_auto_columns": null,
            "margin": null,
            "display": null,
            "left": null
          }
        },
        "ff5955b9c07a489381f0130dea8250a5": {
          "model_module": "@jupyter-widgets/controls",
          "model_name": "HBoxModel",
          "state": {
            "_view_name": "HBoxView",
            "_dom_classes": [],
            "_model_name": "HBoxModel",
            "_view_module": "@jupyter-widgets/controls",
            "_model_module_version": "1.5.0",
            "_view_count": null,
            "_view_module_version": "1.5.0",
            "box_style": "",
            "layout": "IPY_MODEL_a939dd13a2864960a622626c01592845",
            "_model_module": "@jupyter-widgets/controls",
            "children": [
              "IPY_MODEL_63f88390f5544c7c9509677ba2e68b51",
              "IPY_MODEL_114df7c87b5248df9af93a144be5cf4f"
            ]
          }
        },
        "a939dd13a2864960a622626c01592845": {
          "model_module": "@jupyter-widgets/base",
          "model_name": "LayoutModel",
          "state": {
            "_view_name": "LayoutView",
            "grid_template_rows": null,
            "right": null,
            "justify_content": null,
            "_view_module": "@jupyter-widgets/base",
            "overflow": null,
            "_model_module_version": "1.2.0",
            "_view_count": null,
            "flex_flow": null,
            "width": null,
            "min_width": null,
            "border": null,
            "align_items": null,
            "bottom": null,
            "_model_module": "@jupyter-widgets/base",
            "top": null,
            "grid_column": null,
            "overflow_y": null,
            "overflow_x": null,
            "grid_auto_flow": null,
            "grid_area": null,
            "grid_template_columns": null,
            "flex": null,
            "_model_name": "LayoutModel",
            "justify_items": null,
            "grid_row": null,
            "max_height": null,
            "align_content": null,
            "visibility": null,
            "align_self": null,
            "height": null,
            "min_height": null,
            "padding": null,
            "grid_auto_rows": null,
            "grid_gap": null,
            "max_width": null,
            "order": null,
            "_view_module_version": "1.2.0",
            "grid_template_areas": null,
            "object_position": null,
            "object_fit": null,
            "grid_auto_columns": null,
            "margin": null,
            "display": null,
            "left": null
          }
        },
        "63f88390f5544c7c9509677ba2e68b51": {
          "model_module": "@jupyter-widgets/controls",
          "model_name": "FloatProgressModel",
          "state": {
            "_view_name": "ProgressView",
            "style": "IPY_MODEL_1e5f21e110e44409afa03acdfc8e9f9a",
            "_dom_classes": [],
            "description": "Downloading: 100%",
            "_model_name": "FloatProgressModel",
            "bar_style": "success",
            "max": 28,
            "_view_module": "@jupyter-widgets/controls",
            "_model_module_version": "1.5.0",
            "value": 28,
            "_view_count": null,
            "_view_module_version": "1.5.0",
            "orientation": "horizontal",
            "min": 0,
            "description_tooltip": null,
            "_model_module": "@jupyter-widgets/controls",
            "layout": "IPY_MODEL_cb818b4500f74b698b2632e95384bd33"
          }
        },
        "114df7c87b5248df9af93a144be5cf4f": {
          "model_module": "@jupyter-widgets/controls",
          "model_name": "HTMLModel",
          "state": {
            "_view_name": "HTMLView",
            "style": "IPY_MODEL_117d83c025a84a9bb63b21cb4037c3ec",
            "_dom_classes": [],
            "description": "",
            "_model_name": "HTMLModel",
            "placeholder": "​",
            "_view_module": "@jupyter-widgets/controls",
            "_model_module_version": "1.5.0",
            "value": " 28.0/28.0 [00:00&lt;00:00, 29.2B/s]",
            "_view_count": null,
            "_view_module_version": "1.5.0",
            "description_tooltip": null,
            "_model_module": "@jupyter-widgets/controls",
            "layout": "IPY_MODEL_52037d9c9b4a4396bce9c52e1c39a931"
          }
        },
        "1e5f21e110e44409afa03acdfc8e9f9a": {
          "model_module": "@jupyter-widgets/controls",
          "model_name": "ProgressStyleModel",
          "state": {
            "_view_name": "StyleView",
            "_model_name": "ProgressStyleModel",
            "description_width": "initial",
            "_view_module": "@jupyter-widgets/base",
            "_model_module_version": "1.5.0",
            "_view_count": null,
            "_view_module_version": "1.2.0",
            "bar_color": null,
            "_model_module": "@jupyter-widgets/controls"
          }
        },
        "cb818b4500f74b698b2632e95384bd33": {
          "model_module": "@jupyter-widgets/base",
          "model_name": "LayoutModel",
          "state": {
            "_view_name": "LayoutView",
            "grid_template_rows": null,
            "right": null,
            "justify_content": null,
            "_view_module": "@jupyter-widgets/base",
            "overflow": null,
            "_model_module_version": "1.2.0",
            "_view_count": null,
            "flex_flow": null,
            "width": null,
            "min_width": null,
            "border": null,
            "align_items": null,
            "bottom": null,
            "_model_module": "@jupyter-widgets/base",
            "top": null,
            "grid_column": null,
            "overflow_y": null,
            "overflow_x": null,
            "grid_auto_flow": null,
            "grid_area": null,
            "grid_template_columns": null,
            "flex": null,
            "_model_name": "LayoutModel",
            "justify_items": null,
            "grid_row": null,
            "max_height": null,
            "align_content": null,
            "visibility": null,
            "align_self": null,
            "height": null,
            "min_height": null,
            "padding": null,
            "grid_auto_rows": null,
            "grid_gap": null,
            "max_width": null,
            "order": null,
            "_view_module_version": "1.2.0",
            "grid_template_areas": null,
            "object_position": null,
            "object_fit": null,
            "grid_auto_columns": null,
            "margin": null,
            "display": null,
            "left": null
          }
        },
        "117d83c025a84a9bb63b21cb4037c3ec": {
          "model_module": "@jupyter-widgets/controls",
          "model_name": "DescriptionStyleModel",
          "state": {
            "_view_name": "StyleView",
            "_model_name": "DescriptionStyleModel",
            "description_width": "",
            "_view_module": "@jupyter-widgets/base",
            "_model_module_version": "1.5.0",
            "_view_count": null,
            "_view_module_version": "1.2.0",
            "_model_module": "@jupyter-widgets/controls"
          }
        },
        "52037d9c9b4a4396bce9c52e1c39a931": {
          "model_module": "@jupyter-widgets/base",
          "model_name": "LayoutModel",
          "state": {
            "_view_name": "LayoutView",
            "grid_template_rows": null,
            "right": null,
            "justify_content": null,
            "_view_module": "@jupyter-widgets/base",
            "overflow": null,
            "_model_module_version": "1.2.0",
            "_view_count": null,
            "flex_flow": null,
            "width": null,
            "min_width": null,
            "border": null,
            "align_items": null,
            "bottom": null,
            "_model_module": "@jupyter-widgets/base",
            "top": null,
            "grid_column": null,
            "overflow_y": null,
            "overflow_x": null,
            "grid_auto_flow": null,
            "grid_area": null,
            "grid_template_columns": null,
            "flex": null,
            "_model_name": "LayoutModel",
            "justify_items": null,
            "grid_row": null,
            "max_height": null,
            "align_content": null,
            "visibility": null,
            "align_self": null,
            "height": null,
            "min_height": null,
            "padding": null,
            "grid_auto_rows": null,
            "grid_gap": null,
            "max_width": null,
            "order": null,
            "_view_module_version": "1.2.0",
            "grid_template_areas": null,
            "object_position": null,
            "object_fit": null,
            "grid_auto_columns": null,
            "margin": null,
            "display": null,
            "left": null
          }
        },
        "e289f04127664ca4a2e7d10d31368a6e": {
          "model_module": "@jupyter-widgets/controls",
          "model_name": "HBoxModel",
          "state": {
            "_view_name": "HBoxView",
            "_dom_classes": [],
            "_model_name": "HBoxModel",
            "_view_module": "@jupyter-widgets/controls",
            "_model_module_version": "1.5.0",
            "_view_count": null,
            "_view_module_version": "1.5.0",
            "box_style": "",
            "layout": "IPY_MODEL_ed679f5da7af4baaa54a0b938aab6eb9",
            "_model_module": "@jupyter-widgets/controls",
            "children": [
              "IPY_MODEL_a6316b234f16474fb6e0f207df0818af",
              "IPY_MODEL_366a7e8a443f42cbb0d9769a7fbfe8ff"
            ]
          }
        },
        "ed679f5da7af4baaa54a0b938aab6eb9": {
          "model_module": "@jupyter-widgets/base",
          "model_name": "LayoutModel",
          "state": {
            "_view_name": "LayoutView",
            "grid_template_rows": null,
            "right": null,
            "justify_content": null,
            "_view_module": "@jupyter-widgets/base",
            "overflow": null,
            "_model_module_version": "1.2.0",
            "_view_count": null,
            "flex_flow": null,
            "width": null,
            "min_width": null,
            "border": null,
            "align_items": null,
            "bottom": null,
            "_model_module": "@jupyter-widgets/base",
            "top": null,
            "grid_column": null,
            "overflow_y": null,
            "overflow_x": null,
            "grid_auto_flow": null,
            "grid_area": null,
            "grid_template_columns": null,
            "flex": null,
            "_model_name": "LayoutModel",
            "justify_items": null,
            "grid_row": null,
            "max_height": null,
            "align_content": null,
            "visibility": null,
            "align_self": null,
            "height": null,
            "min_height": null,
            "padding": null,
            "grid_auto_rows": null,
            "grid_gap": null,
            "max_width": null,
            "order": null,
            "_view_module_version": "1.2.0",
            "grid_template_areas": null,
            "object_position": null,
            "object_fit": null,
            "grid_auto_columns": null,
            "margin": null,
            "display": null,
            "left": null
          }
        },
        "a6316b234f16474fb6e0f207df0818af": {
          "model_module": "@jupyter-widgets/controls",
          "model_name": "FloatProgressModel",
          "state": {
            "_view_name": "ProgressView",
            "style": "IPY_MODEL_0375aa12fb384fe281ccf1b52ca6af25",
            "_dom_classes": [],
            "description": "Downloading: 100%",
            "_model_name": "FloatProgressModel",
            "bar_style": "success",
            "max": 466062,
            "_view_module": "@jupyter-widgets/controls",
            "_model_module_version": "1.5.0",
            "value": 466062,
            "_view_count": null,
            "_view_module_version": "1.5.0",
            "orientation": "horizontal",
            "min": 0,
            "description_tooltip": null,
            "_model_module": "@jupyter-widgets/controls",
            "layout": "IPY_MODEL_9f083005ca9f465298f4842a1e718cf7"
          }
        },
        "366a7e8a443f42cbb0d9769a7fbfe8ff": {
          "model_module": "@jupyter-widgets/controls",
          "model_name": "HTMLModel",
          "state": {
            "_view_name": "HTMLView",
            "style": "IPY_MODEL_f5679b5e56ff44019cd38c31c9b9094b",
            "_dom_classes": [],
            "description": "",
            "_model_name": "HTMLModel",
            "placeholder": "​",
            "_view_module": "@jupyter-widgets/controls",
            "_model_module_version": "1.5.0",
            "value": " 466k/466k [00:00&lt;00:00, 1.36MB/s]",
            "_view_count": null,
            "_view_module_version": "1.5.0",
            "description_tooltip": null,
            "_model_module": "@jupyter-widgets/controls",
            "layout": "IPY_MODEL_bc4615911fb84c1b857afa6cf100df51"
          }
        },
        "0375aa12fb384fe281ccf1b52ca6af25": {
          "model_module": "@jupyter-widgets/controls",
          "model_name": "ProgressStyleModel",
          "state": {
            "_view_name": "StyleView",
            "_model_name": "ProgressStyleModel",
            "description_width": "initial",
            "_view_module": "@jupyter-widgets/base",
            "_model_module_version": "1.5.0",
            "_view_count": null,
            "_view_module_version": "1.2.0",
            "bar_color": null,
            "_model_module": "@jupyter-widgets/controls"
          }
        },
        "9f083005ca9f465298f4842a1e718cf7": {
          "model_module": "@jupyter-widgets/base",
          "model_name": "LayoutModel",
          "state": {
            "_view_name": "LayoutView",
            "grid_template_rows": null,
            "right": null,
            "justify_content": null,
            "_view_module": "@jupyter-widgets/base",
            "overflow": null,
            "_model_module_version": "1.2.0",
            "_view_count": null,
            "flex_flow": null,
            "width": null,
            "min_width": null,
            "border": null,
            "align_items": null,
            "bottom": null,
            "_model_module": "@jupyter-widgets/base",
            "top": null,
            "grid_column": null,
            "overflow_y": null,
            "overflow_x": null,
            "grid_auto_flow": null,
            "grid_area": null,
            "grid_template_columns": null,
            "flex": null,
            "_model_name": "LayoutModel",
            "justify_items": null,
            "grid_row": null,
            "max_height": null,
            "align_content": null,
            "visibility": null,
            "align_self": null,
            "height": null,
            "min_height": null,
            "padding": null,
            "grid_auto_rows": null,
            "grid_gap": null,
            "max_width": null,
            "order": null,
            "_view_module_version": "1.2.0",
            "grid_template_areas": null,
            "object_position": null,
            "object_fit": null,
            "grid_auto_columns": null,
            "margin": null,
            "display": null,
            "left": null
          }
        },
        "f5679b5e56ff44019cd38c31c9b9094b": {
          "model_module": "@jupyter-widgets/controls",
          "model_name": "DescriptionStyleModel",
          "state": {
            "_view_name": "StyleView",
            "_model_name": "DescriptionStyleModel",
            "description_width": "",
            "_view_module": "@jupyter-widgets/base",
            "_model_module_version": "1.5.0",
            "_view_count": null,
            "_view_module_version": "1.2.0",
            "_model_module": "@jupyter-widgets/controls"
          }
        },
        "bc4615911fb84c1b857afa6cf100df51": {
          "model_module": "@jupyter-widgets/base",
          "model_name": "LayoutModel",
          "state": {
            "_view_name": "LayoutView",
            "grid_template_rows": null,
            "right": null,
            "justify_content": null,
            "_view_module": "@jupyter-widgets/base",
            "overflow": null,
            "_model_module_version": "1.2.0",
            "_view_count": null,
            "flex_flow": null,
            "width": null,
            "min_width": null,
            "border": null,
            "align_items": null,
            "bottom": null,
            "_model_module": "@jupyter-widgets/base",
            "top": null,
            "grid_column": null,
            "overflow_y": null,
            "overflow_x": null,
            "grid_auto_flow": null,
            "grid_area": null,
            "grid_template_columns": null,
            "flex": null,
            "_model_name": "LayoutModel",
            "justify_items": null,
            "grid_row": null,
            "max_height": null,
            "align_content": null,
            "visibility": null,
            "align_self": null,
            "height": null,
            "min_height": null,
            "padding": null,
            "grid_auto_rows": null,
            "grid_gap": null,
            "max_width": null,
            "order": null,
            "_view_module_version": "1.2.0",
            "grid_template_areas": null,
            "object_position": null,
            "object_fit": null,
            "grid_auto_columns": null,
            "margin": null,
            "display": null,
            "left": null
          }
        },
        "3313829584f64b5298e9d641acde07dc": {
          "model_module": "@jupyter-widgets/controls",
          "model_name": "HBoxModel",
          "state": {
            "_view_name": "HBoxView",
            "_dom_classes": [],
            "_model_name": "HBoxModel",
            "_view_module": "@jupyter-widgets/controls",
            "_model_module_version": "1.5.0",
            "_view_count": null,
            "_view_module_version": "1.5.0",
            "box_style": "",
            "layout": "IPY_MODEL_761b3ae820584dbca016a97838fd8023",
            "_model_module": "@jupyter-widgets/controls",
            "children": [
              "IPY_MODEL_96d7b0ff6403424c83d7a52e1c4790ab",
              "IPY_MODEL_76747ded01a34b2997af9aa27cc22c00"
            ]
          }
        },
        "761b3ae820584dbca016a97838fd8023": {
          "model_module": "@jupyter-widgets/base",
          "model_name": "LayoutModel",
          "state": {
            "_view_name": "LayoutView",
            "grid_template_rows": null,
            "right": null,
            "justify_content": null,
            "_view_module": "@jupyter-widgets/base",
            "overflow": null,
            "_model_module_version": "1.2.0",
            "_view_count": null,
            "flex_flow": null,
            "width": null,
            "min_width": null,
            "border": null,
            "align_items": null,
            "bottom": null,
            "_model_module": "@jupyter-widgets/base",
            "top": null,
            "grid_column": null,
            "overflow_y": null,
            "overflow_x": null,
            "grid_auto_flow": null,
            "grid_area": null,
            "grid_template_columns": null,
            "flex": null,
            "_model_name": "LayoutModel",
            "justify_items": null,
            "grid_row": null,
            "max_height": null,
            "align_content": null,
            "visibility": null,
            "align_self": null,
            "height": null,
            "min_height": null,
            "padding": null,
            "grid_auto_rows": null,
            "grid_gap": null,
            "max_width": null,
            "order": null,
            "_view_module_version": "1.2.0",
            "grid_template_areas": null,
            "object_position": null,
            "object_fit": null,
            "grid_auto_columns": null,
            "margin": null,
            "display": null,
            "left": null
          }
        },
        "96d7b0ff6403424c83d7a52e1c4790ab": {
          "model_module": "@jupyter-widgets/controls",
          "model_name": "FloatProgressModel",
          "state": {
            "_view_name": "ProgressView",
            "style": "IPY_MODEL_972dfc62bb814c2480b5ba4f957fc11b",
            "_dom_classes": [],
            "description": "Downloading: 100%",
            "_model_name": "FloatProgressModel",
            "bar_style": "success",
            "max": 442,
            "_view_module": "@jupyter-widgets/controls",
            "_model_module_version": "1.5.0",
            "value": 442,
            "_view_count": null,
            "_view_module_version": "1.5.0",
            "orientation": "horizontal",
            "min": 0,
            "description_tooltip": null,
            "_model_module": "@jupyter-widgets/controls",
            "layout": "IPY_MODEL_aac1efc90ab544139654e4bb7873808a"
          }
        },
        "76747ded01a34b2997af9aa27cc22c00": {
          "model_module": "@jupyter-widgets/controls",
          "model_name": "HTMLModel",
          "state": {
            "_view_name": "HTMLView",
            "style": "IPY_MODEL_17796a94ddd04fb2ba5c32d858da9bde",
            "_dom_classes": [],
            "description": "",
            "_model_name": "HTMLModel",
            "placeholder": "​",
            "_view_module": "@jupyter-widgets/controls",
            "_model_module_version": "1.5.0",
            "value": " 442/442 [00:00&lt;00:00, 1.26kB/s]",
            "_view_count": null,
            "_view_module_version": "1.5.0",
            "description_tooltip": null,
            "_model_module": "@jupyter-widgets/controls",
            "layout": "IPY_MODEL_8e0a9e1cbd7a40b48b4ba8914238c6b7"
          }
        },
        "972dfc62bb814c2480b5ba4f957fc11b": {
          "model_module": "@jupyter-widgets/controls",
          "model_name": "ProgressStyleModel",
          "state": {
            "_view_name": "StyleView",
            "_model_name": "ProgressStyleModel",
            "description_width": "initial",
            "_view_module": "@jupyter-widgets/base",
            "_model_module_version": "1.5.0",
            "_view_count": null,
            "_view_module_version": "1.2.0",
            "bar_color": null,
            "_model_module": "@jupyter-widgets/controls"
          }
        },
        "aac1efc90ab544139654e4bb7873808a": {
          "model_module": "@jupyter-widgets/base",
          "model_name": "LayoutModel",
          "state": {
            "_view_name": "LayoutView",
            "grid_template_rows": null,
            "right": null,
            "justify_content": null,
            "_view_module": "@jupyter-widgets/base",
            "overflow": null,
            "_model_module_version": "1.2.0",
            "_view_count": null,
            "flex_flow": null,
            "width": null,
            "min_width": null,
            "border": null,
            "align_items": null,
            "bottom": null,
            "_model_module": "@jupyter-widgets/base",
            "top": null,
            "grid_column": null,
            "overflow_y": null,
            "overflow_x": null,
            "grid_auto_flow": null,
            "grid_area": null,
            "grid_template_columns": null,
            "flex": null,
            "_model_name": "LayoutModel",
            "justify_items": null,
            "grid_row": null,
            "max_height": null,
            "align_content": null,
            "visibility": null,
            "align_self": null,
            "height": null,
            "min_height": null,
            "padding": null,
            "grid_auto_rows": null,
            "grid_gap": null,
            "max_width": null,
            "order": null,
            "_view_module_version": "1.2.0",
            "grid_template_areas": null,
            "object_position": null,
            "object_fit": null,
            "grid_auto_columns": null,
            "margin": null,
            "display": null,
            "left": null
          }
        },
        "17796a94ddd04fb2ba5c32d858da9bde": {
          "model_module": "@jupyter-widgets/controls",
          "model_name": "DescriptionStyleModel",
          "state": {
            "_view_name": "StyleView",
            "_model_name": "DescriptionStyleModel",
            "description_width": "",
            "_view_module": "@jupyter-widgets/base",
            "_model_module_version": "1.5.0",
            "_view_count": null,
            "_view_module_version": "1.2.0",
            "_model_module": "@jupyter-widgets/controls"
          }
        },
        "8e0a9e1cbd7a40b48b4ba8914238c6b7": {
          "model_module": "@jupyter-widgets/base",
          "model_name": "LayoutModel",
          "state": {
            "_view_name": "LayoutView",
            "grid_template_rows": null,
            "right": null,
            "justify_content": null,
            "_view_module": "@jupyter-widgets/base",
            "overflow": null,
            "_model_module_version": "1.2.0",
            "_view_count": null,
            "flex_flow": null,
            "width": null,
            "min_width": null,
            "border": null,
            "align_items": null,
            "bottom": null,
            "_model_module": "@jupyter-widgets/base",
            "top": null,
            "grid_column": null,
            "overflow_y": null,
            "overflow_x": null,
            "grid_auto_flow": null,
            "grid_area": null,
            "grid_template_columns": null,
            "flex": null,
            "_model_name": "LayoutModel",
            "justify_items": null,
            "grid_row": null,
            "max_height": null,
            "align_content": null,
            "visibility": null,
            "align_self": null,
            "height": null,
            "min_height": null,
            "padding": null,
            "grid_auto_rows": null,
            "grid_gap": null,
            "max_width": null,
            "order": null,
            "_view_module_version": "1.2.0",
            "grid_template_areas": null,
            "object_position": null,
            "object_fit": null,
            "grid_auto_columns": null,
            "margin": null,
            "display": null,
            "left": null
          }
        },
        "fd494a0f7cf848f792a53bf1c7a04432": {
          "model_module": "@jupyter-widgets/controls",
          "model_name": "HBoxModel",
          "state": {
            "_view_name": "HBoxView",
            "_dom_classes": [],
            "_model_name": "HBoxModel",
            "_view_module": "@jupyter-widgets/controls",
            "_model_module_version": "1.5.0",
            "_view_count": null,
            "_view_module_version": "1.5.0",
            "box_style": "",
            "layout": "IPY_MODEL_275565aa6f2840c6a3dc819b347795e3",
            "_model_module": "@jupyter-widgets/controls",
            "children": [
              "IPY_MODEL_fdf53bdafe5f41e081c95eaf5f953296",
              "IPY_MODEL_5cbe4e56d6ba4be191eb8a3b2f535c85"
            ]
          }
        },
        "275565aa6f2840c6a3dc819b347795e3": {
          "model_module": "@jupyter-widgets/base",
          "model_name": "LayoutModel",
          "state": {
            "_view_name": "LayoutView",
            "grid_template_rows": null,
            "right": null,
            "justify_content": null,
            "_view_module": "@jupyter-widgets/base",
            "overflow": null,
            "_model_module_version": "1.2.0",
            "_view_count": null,
            "flex_flow": null,
            "width": null,
            "min_width": null,
            "border": null,
            "align_items": null,
            "bottom": null,
            "_model_module": "@jupyter-widgets/base",
            "top": null,
            "grid_column": null,
            "overflow_y": null,
            "overflow_x": null,
            "grid_auto_flow": null,
            "grid_area": null,
            "grid_template_columns": null,
            "flex": null,
            "_model_name": "LayoutModel",
            "justify_items": null,
            "grid_row": null,
            "max_height": null,
            "align_content": null,
            "visibility": null,
            "align_self": null,
            "height": null,
            "min_height": null,
            "padding": null,
            "grid_auto_rows": null,
            "grid_gap": null,
            "max_width": null,
            "order": null,
            "_view_module_version": "1.2.0",
            "grid_template_areas": null,
            "object_position": null,
            "object_fit": null,
            "grid_auto_columns": null,
            "margin": null,
            "display": null,
            "left": null
          }
        },
        "fdf53bdafe5f41e081c95eaf5f953296": {
          "model_module": "@jupyter-widgets/controls",
          "model_name": "FloatProgressModel",
          "state": {
            "_view_name": "ProgressView",
            "style": "IPY_MODEL_5d4737bf4ebc4a2aa7ba741a865c9cfe",
            "_dom_classes": [],
            "description": "Downloading: 100%",
            "_model_name": "FloatProgressModel",
            "bar_style": "success",
            "max": 267967963,
            "_view_module": "@jupyter-widgets/controls",
            "_model_module_version": "1.5.0",
            "value": 267967963,
            "_view_count": null,
            "_view_module_version": "1.5.0",
            "orientation": "horizontal",
            "min": 0,
            "description_tooltip": null,
            "_model_module": "@jupyter-widgets/controls",
            "layout": "IPY_MODEL_76500b48182948d9a3efb2f01dedaf07"
          }
        },
        "5cbe4e56d6ba4be191eb8a3b2f535c85": {
          "model_module": "@jupyter-widgets/controls",
          "model_name": "HTMLModel",
          "state": {
            "_view_name": "HTMLView",
            "style": "IPY_MODEL_e1a04b221b6942e989fe009aa1eaa911",
            "_dom_classes": [],
            "description": "",
            "_model_name": "HTMLModel",
            "placeholder": "​",
            "_view_module": "@jupyter-widgets/controls",
            "_model_module_version": "1.5.0",
            "value": " 268M/268M [00:05&lt;00:00, 49.1MB/s]",
            "_view_count": null,
            "_view_module_version": "1.5.0",
            "description_tooltip": null,
            "_model_module": "@jupyter-widgets/controls",
            "layout": "IPY_MODEL_498552dc946d4e949773900a18cd7eb4"
          }
        },
        "5d4737bf4ebc4a2aa7ba741a865c9cfe": {
          "model_module": "@jupyter-widgets/controls",
          "model_name": "ProgressStyleModel",
          "state": {
            "_view_name": "StyleView",
            "_model_name": "ProgressStyleModel",
            "description_width": "initial",
            "_view_module": "@jupyter-widgets/base",
            "_model_module_version": "1.5.0",
            "_view_count": null,
            "_view_module_version": "1.2.0",
            "bar_color": null,
            "_model_module": "@jupyter-widgets/controls"
          }
        },
        "76500b48182948d9a3efb2f01dedaf07": {
          "model_module": "@jupyter-widgets/base",
          "model_name": "LayoutModel",
          "state": {
            "_view_name": "LayoutView",
            "grid_template_rows": null,
            "right": null,
            "justify_content": null,
            "_view_module": "@jupyter-widgets/base",
            "overflow": null,
            "_model_module_version": "1.2.0",
            "_view_count": null,
            "flex_flow": null,
            "width": null,
            "min_width": null,
            "border": null,
            "align_items": null,
            "bottom": null,
            "_model_module": "@jupyter-widgets/base",
            "top": null,
            "grid_column": null,
            "overflow_y": null,
            "overflow_x": null,
            "grid_auto_flow": null,
            "grid_area": null,
            "grid_template_columns": null,
            "flex": null,
            "_model_name": "LayoutModel",
            "justify_items": null,
            "grid_row": null,
            "max_height": null,
            "align_content": null,
            "visibility": null,
            "align_self": null,
            "height": null,
            "min_height": null,
            "padding": null,
            "grid_auto_rows": null,
            "grid_gap": null,
            "max_width": null,
            "order": null,
            "_view_module_version": "1.2.0",
            "grid_template_areas": null,
            "object_position": null,
            "object_fit": null,
            "grid_auto_columns": null,
            "margin": null,
            "display": null,
            "left": null
          }
        },
        "e1a04b221b6942e989fe009aa1eaa911": {
          "model_module": "@jupyter-widgets/controls",
          "model_name": "DescriptionStyleModel",
          "state": {
            "_view_name": "StyleView",
            "_model_name": "DescriptionStyleModel",
            "description_width": "",
            "_view_module": "@jupyter-widgets/base",
            "_model_module_version": "1.5.0",
            "_view_count": null,
            "_view_module_version": "1.2.0",
            "_model_module": "@jupyter-widgets/controls"
          }
        },
        "498552dc946d4e949773900a18cd7eb4": {
          "model_module": "@jupyter-widgets/base",
          "model_name": "LayoutModel",
          "state": {
            "_view_name": "LayoutView",
            "grid_template_rows": null,
            "right": null,
            "justify_content": null,
            "_view_module": "@jupyter-widgets/base",
            "overflow": null,
            "_model_module_version": "1.2.0",
            "_view_count": null,
            "flex_flow": null,
            "width": null,
            "min_width": null,
            "border": null,
            "align_items": null,
            "bottom": null,
            "_model_module": "@jupyter-widgets/base",
            "top": null,
            "grid_column": null,
            "overflow_y": null,
            "overflow_x": null,
            "grid_auto_flow": null,
            "grid_area": null,
            "grid_template_columns": null,
            "flex": null,
            "_model_name": "LayoutModel",
            "justify_items": null,
            "grid_row": null,
            "max_height": null,
            "align_content": null,
            "visibility": null,
            "align_self": null,
            "height": null,
            "min_height": null,
            "padding": null,
            "grid_auto_rows": null,
            "grid_gap": null,
            "max_width": null,
            "order": null,
            "_view_module_version": "1.2.0",
            "grid_template_areas": null,
            "object_position": null,
            "object_fit": null,
            "grid_auto_columns": null,
            "margin": null,
            "display": null,
            "left": null
          }
        }
      }
    }
  },
  "cells": [
    {
      "cell_type": "markdown",
      "metadata": {
        "id": "zsc2VkAfS6Q5"
      },
      "source": [
        "## **Objective**: To create a model that takes in a sentence and produces either 1 (indicating the sentence carries a positive sentiment) or a 0 (indicating the sentence carries a negative sentiment)"
      ]
    },
    {
      "cell_type": "code",
      "metadata": {
        "id": "4sGJcqybUpks"
      },
      "source": [
        "import json"
      ],
      "execution_count": null,
      "outputs": []
    },
    {
      "cell_type": "code",
      "metadata": {
        "id": "5WvQJlz7Tk4-"
      },
      "source": [
        "reviews = []\n",
        "filename = '/content/Books_small.json'\n",
        "with open(filename) as f:\n",
        "  for line in f:\n",
        "    review = json.loads(line)\n",
        "    reviews.append((review[\"reviewText\"],review[\"overall\"]))"
      ],
      "execution_count": null,
      "outputs": []
    },
    {
      "cell_type": "code",
      "metadata": {
        "colab": {
          "base_uri": "https://localhost:8080/"
        },
        "id": "DR1KVzrCSw2u",
        "outputId": "1c9b545d-1b8f-449b-9277-37d3e9f4c6e8"
      },
      "source": [
        "len(reviews)"
      ],
      "execution_count": null,
      "outputs": [
        {
          "output_type": "execute_result",
          "data": {
            "text/plain": [
              "1000"
            ]
          },
          "metadata": {
            "tags": []
          },
          "execution_count": 4
        }
      ]
    },
    {
      "cell_type": "code",
      "metadata": {
        "id": "4kczMuOxKrC-"
      },
      "source": [
        "import pandas as pd\n",
        "data = pd.DataFrame(reviews, columns =['Review', 'Rating'])"
      ],
      "execution_count": null,
      "outputs": []
    },
    {
      "cell_type": "code",
      "metadata": {
        "colab": {
          "base_uri": "https://localhost:8080/"
        },
        "id": "5VVJo1BEKrFs",
        "outputId": "455c5e58-f7ab-4e44-f1da-c6c5b6480c91"
      },
      "source": [
        "data.shape"
      ],
      "execution_count": null,
      "outputs": [
        {
          "output_type": "execute_result",
          "data": {
            "text/plain": [
              "(1000, 2)"
            ]
          },
          "metadata": {
            "tags": []
          },
          "execution_count": 6
        }
      ]
    },
    {
      "cell_type": "code",
      "metadata": {
        "id": "doVv3BniKrIU"
      },
      "source": [
        "def get_sentiment(score):\n",
        "        if  score <= 2 or score == 3 :\n",
        "          return 0\n",
        "        else:\n",
        "          return 1"
      ],
      "execution_count": null,
      "outputs": []
    },
    {
      "cell_type": "code",
      "metadata": {
        "colab": {
          "base_uri": "https://localhost:8080/",
          "height": 639
        },
        "id": "F4jdvnwqYYNv",
        "outputId": "9c1b73c8-4879-44c2-a8e8-0be56fd30498"
      },
      "source": [
        "data.head(20)"
      ],
      "execution_count": null,
      "outputs": [
        {
          "output_type": "execute_result",
          "data": {
            "text/html": [
              "<div>\n",
              "<style scoped>\n",
              "    .dataframe tbody tr th:only-of-type {\n",
              "        vertical-align: middle;\n",
              "    }\n",
              "\n",
              "    .dataframe tbody tr th {\n",
              "        vertical-align: top;\n",
              "    }\n",
              "\n",
              "    .dataframe thead th {\n",
              "        text-align: right;\n",
              "    }\n",
              "</style>\n",
              "<table border=\"1\" class=\"dataframe\">\n",
              "  <thead>\n",
              "    <tr style=\"text-align: right;\">\n",
              "      <th></th>\n",
              "      <th>Review</th>\n",
              "      <th>Rating</th>\n",
              "    </tr>\n",
              "  </thead>\n",
              "  <tbody>\n",
              "    <tr>\n",
              "      <th>0</th>\n",
              "      <td>Da Silva takes the divine by storm with this u...</td>\n",
              "      <td>4.0</td>\n",
              "    </tr>\n",
              "    <tr>\n",
              "      <th>1</th>\n",
              "      <td>For me personally it's the most disappointing ...</td>\n",
              "      <td>2.0</td>\n",
              "    </tr>\n",
              "    <tr>\n",
              "      <th>2</th>\n",
              "      <td>Very simple book, but leaves you feeling good....</td>\n",
              "      <td>4.0</td>\n",
              "    </tr>\n",
              "    <tr>\n",
              "      <th>3</th>\n",
              "      <td>I read a library copy of this exceptionally we...</td>\n",
              "      <td>5.0</td>\n",
              "    </tr>\n",
              "    <tr>\n",
              "      <th>4</th>\n",
              "      <td>With the government knowing this could happen ...</td>\n",
              "      <td>5.0</td>\n",
              "    </tr>\n",
              "    <tr>\n",
              "      <th>5</th>\n",
              "      <td>Love the book, great story line, keeps you ent...</td>\n",
              "      <td>4.0</td>\n",
              "    </tr>\n",
              "    <tr>\n",
              "      <th>6</th>\n",
              "      <td>A well written fast paced story with twists an...</td>\n",
              "      <td>5.0</td>\n",
              "    </tr>\n",
              "    <tr>\n",
              "      <th>7</th>\n",
              "      <td>It was good....there is a lot going on with mu...</td>\n",
              "      <td>4.0</td>\n",
              "    </tr>\n",
              "    <tr>\n",
              "      <th>8</th>\n",
              "      <td>I sit here, in tears.  I don't even know what ...</td>\n",
              "      <td>5.0</td>\n",
              "    </tr>\n",
              "    <tr>\n",
              "      <th>9</th>\n",
              "      <td>Loved it! Could not put it down! The only thin...</td>\n",
              "      <td>5.0</td>\n",
              "    </tr>\n",
              "    <tr>\n",
              "      <th>10</th>\n",
              "      <td>Great read!  Can't wait to start the next inst...</td>\n",
              "      <td>5.0</td>\n",
              "    </tr>\n",
              "    <tr>\n",
              "      <th>11</th>\n",
              "      <td>I'm not sure what to say about this book. Inte...</td>\n",
              "      <td>3.0</td>\n",
              "    </tr>\n",
              "    <tr>\n",
              "      <th>12</th>\n",
              "      <td>This is a prologue to his new book &amp;#34;Innoce...</td>\n",
              "      <td>4.0</td>\n",
              "    </tr>\n",
              "    <tr>\n",
              "      <th>13</th>\n",
              "      <td>I liked the interwoven personal drama, set off...</td>\n",
              "      <td>4.0</td>\n",
              "    </tr>\n",
              "    <tr>\n",
              "      <th>14</th>\n",
              "      <td>I can't say enough good things about this book...</td>\n",
              "      <td>5.0</td>\n",
              "    </tr>\n",
              "    <tr>\n",
              "      <th>15</th>\n",
              "      <td>This novel has everything a sci-fi reader is l...</td>\n",
              "      <td>5.0</td>\n",
              "    </tr>\n",
              "    <tr>\n",
              "      <th>16</th>\n",
              "      <td>This fabulous story just can't be missed.  Wil...</td>\n",
              "      <td>5.0</td>\n",
              "    </tr>\n",
              "    <tr>\n",
              "      <th>17</th>\n",
              "      <td>Really enjoyed this instalment of the series! ...</td>\n",
              "      <td>5.0</td>\n",
              "    </tr>\n",
              "    <tr>\n",
              "      <th>18</th>\n",
              "      <td>I had not previously read this author but hear...</td>\n",
              "      <td>5.0</td>\n",
              "    </tr>\n",
              "    <tr>\n",
              "      <th>19</th>\n",
              "      <td>I have had the privilege of being a beta reade...</td>\n",
              "      <td>5.0</td>\n",
              "    </tr>\n",
              "  </tbody>\n",
              "</table>\n",
              "</div>"
            ],
            "text/plain": [
              "                                               Review  Rating\n",
              "0   Da Silva takes the divine by storm with this u...     4.0\n",
              "1   For me personally it's the most disappointing ...     2.0\n",
              "2   Very simple book, but leaves you feeling good....     4.0\n",
              "3   I read a library copy of this exceptionally we...     5.0\n",
              "4   With the government knowing this could happen ...     5.0\n",
              "5   Love the book, great story line, keeps you ent...     4.0\n",
              "6   A well written fast paced story with twists an...     5.0\n",
              "7   It was good....there is a lot going on with mu...     4.0\n",
              "8   I sit here, in tears.  I don't even know what ...     5.0\n",
              "9   Loved it! Could not put it down! The only thin...     5.0\n",
              "10  Great read!  Can't wait to start the next inst...     5.0\n",
              "11  I'm not sure what to say about this book. Inte...     3.0\n",
              "12  This is a prologue to his new book &#34;Innoce...     4.0\n",
              "13  I liked the interwoven personal drama, set off...     4.0\n",
              "14  I can't say enough good things about this book...     5.0\n",
              "15  This novel has everything a sci-fi reader is l...     5.0\n",
              "16  This fabulous story just can't be missed.  Wil...     5.0\n",
              "17  Really enjoyed this instalment of the series! ...     5.0\n",
              "18  I had not previously read this author but hear...     5.0\n",
              "19  I have had the privilege of being a beta reade...     5.0"
            ]
          },
          "metadata": {
            "tags": []
          },
          "execution_count": 8
        }
      ]
    },
    {
      "cell_type": "code",
      "metadata": {
        "id": "8GKrL1pRKrK9"
      },
      "source": [
        "data['Rating'] = data['Rating'].apply(lambda x : get_sentiment(x))"
      ],
      "execution_count": null,
      "outputs": []
    },
    {
      "cell_type": "code",
      "metadata": {
        "colab": {
          "base_uri": "https://localhost:8080/",
          "height": 639
        },
        "id": "jjhkysdfKrNs",
        "outputId": "6e8075a5-9f8d-4a07-e1bf-d54611f8bb36"
      },
      "source": [
        "data.head(20)"
      ],
      "execution_count": null,
      "outputs": [
        {
          "output_type": "execute_result",
          "data": {
            "text/html": [
              "<div>\n",
              "<style scoped>\n",
              "    .dataframe tbody tr th:only-of-type {\n",
              "        vertical-align: middle;\n",
              "    }\n",
              "\n",
              "    .dataframe tbody tr th {\n",
              "        vertical-align: top;\n",
              "    }\n",
              "\n",
              "    .dataframe thead th {\n",
              "        text-align: right;\n",
              "    }\n",
              "</style>\n",
              "<table border=\"1\" class=\"dataframe\">\n",
              "  <thead>\n",
              "    <tr style=\"text-align: right;\">\n",
              "      <th></th>\n",
              "      <th>Review</th>\n",
              "      <th>Rating</th>\n",
              "    </tr>\n",
              "  </thead>\n",
              "  <tbody>\n",
              "    <tr>\n",
              "      <th>0</th>\n",
              "      <td>Da Silva takes the divine by storm with this u...</td>\n",
              "      <td>1</td>\n",
              "    </tr>\n",
              "    <tr>\n",
              "      <th>1</th>\n",
              "      <td>For me personally it's the most disappointing ...</td>\n",
              "      <td>0</td>\n",
              "    </tr>\n",
              "    <tr>\n",
              "      <th>2</th>\n",
              "      <td>Very simple book, but leaves you feeling good....</td>\n",
              "      <td>1</td>\n",
              "    </tr>\n",
              "    <tr>\n",
              "      <th>3</th>\n",
              "      <td>I read a library copy of this exceptionally we...</td>\n",
              "      <td>1</td>\n",
              "    </tr>\n",
              "    <tr>\n",
              "      <th>4</th>\n",
              "      <td>With the government knowing this could happen ...</td>\n",
              "      <td>1</td>\n",
              "    </tr>\n",
              "    <tr>\n",
              "      <th>5</th>\n",
              "      <td>Love the book, great story line, keeps you ent...</td>\n",
              "      <td>1</td>\n",
              "    </tr>\n",
              "    <tr>\n",
              "      <th>6</th>\n",
              "      <td>A well written fast paced story with twists an...</td>\n",
              "      <td>1</td>\n",
              "    </tr>\n",
              "    <tr>\n",
              "      <th>7</th>\n",
              "      <td>It was good....there is a lot going on with mu...</td>\n",
              "      <td>1</td>\n",
              "    </tr>\n",
              "    <tr>\n",
              "      <th>8</th>\n",
              "      <td>I sit here, in tears.  I don't even know what ...</td>\n",
              "      <td>1</td>\n",
              "    </tr>\n",
              "    <tr>\n",
              "      <th>9</th>\n",
              "      <td>Loved it! Could not put it down! The only thin...</td>\n",
              "      <td>1</td>\n",
              "    </tr>\n",
              "    <tr>\n",
              "      <th>10</th>\n",
              "      <td>Great read!  Can't wait to start the next inst...</td>\n",
              "      <td>1</td>\n",
              "    </tr>\n",
              "    <tr>\n",
              "      <th>11</th>\n",
              "      <td>I'm not sure what to say about this book. Inte...</td>\n",
              "      <td>0</td>\n",
              "    </tr>\n",
              "    <tr>\n",
              "      <th>12</th>\n",
              "      <td>This is a prologue to his new book &amp;#34;Innoce...</td>\n",
              "      <td>1</td>\n",
              "    </tr>\n",
              "    <tr>\n",
              "      <th>13</th>\n",
              "      <td>I liked the interwoven personal drama, set off...</td>\n",
              "      <td>1</td>\n",
              "    </tr>\n",
              "    <tr>\n",
              "      <th>14</th>\n",
              "      <td>I can't say enough good things about this book...</td>\n",
              "      <td>1</td>\n",
              "    </tr>\n",
              "    <tr>\n",
              "      <th>15</th>\n",
              "      <td>This novel has everything a sci-fi reader is l...</td>\n",
              "      <td>1</td>\n",
              "    </tr>\n",
              "    <tr>\n",
              "      <th>16</th>\n",
              "      <td>This fabulous story just can't be missed.  Wil...</td>\n",
              "      <td>1</td>\n",
              "    </tr>\n",
              "    <tr>\n",
              "      <th>17</th>\n",
              "      <td>Really enjoyed this instalment of the series! ...</td>\n",
              "      <td>1</td>\n",
              "    </tr>\n",
              "    <tr>\n",
              "      <th>18</th>\n",
              "      <td>I had not previously read this author but hear...</td>\n",
              "      <td>1</td>\n",
              "    </tr>\n",
              "    <tr>\n",
              "      <th>19</th>\n",
              "      <td>I have had the privilege of being a beta reade...</td>\n",
              "      <td>1</td>\n",
              "    </tr>\n",
              "  </tbody>\n",
              "</table>\n",
              "</div>"
            ],
            "text/plain": [
              "                                               Review  Rating\n",
              "0   Da Silva takes the divine by storm with this u...       1\n",
              "1   For me personally it's the most disappointing ...       0\n",
              "2   Very simple book, but leaves you feeling good....       1\n",
              "3   I read a library copy of this exceptionally we...       1\n",
              "4   With the government knowing this could happen ...       1\n",
              "5   Love the book, great story line, keeps you ent...       1\n",
              "6   A well written fast paced story with twists an...       1\n",
              "7   It was good....there is a lot going on with mu...       1\n",
              "8   I sit here, in tears.  I don't even know what ...       1\n",
              "9   Loved it! Could not put it down! The only thin...       1\n",
              "10  Great read!  Can't wait to start the next inst...       1\n",
              "11  I'm not sure what to say about this book. Inte...       0\n",
              "12  This is a prologue to his new book &#34;Innoce...       1\n",
              "13  I liked the interwoven personal drama, set off...       1\n",
              "14  I can't say enough good things about this book...       1\n",
              "15  This novel has everything a sci-fi reader is l...       1\n",
              "16  This fabulous story just can't be missed.  Wil...       1\n",
              "17  Really enjoyed this instalment of the series! ...       1\n",
              "18  I had not previously read this author but hear...       1\n",
              "19  I have had the privilege of being a beta reade...       1"
            ]
          },
          "metadata": {
            "tags": []
          },
          "execution_count": 10
        }
      ]
    },
    {
      "cell_type": "markdown",
      "metadata": {
        "id": "TYB4ZlhxjPrn"
      },
      "source": [
        "## Installing the transformers library\n",
        "Let's start by installing the hugging face transformers library so we can load our deep learning NLP model."
      ]
    },
    {
      "cell_type": "code",
      "metadata": {
        "colab": {
          "base_uri": "https://localhost:8080/"
        },
        "id": "KQ0S3HJRKrTp",
        "outputId": "f9c0c7b2-2f0d-4524-d04a-34bbace9fe4e"
      },
      "source": [
        "!pip install transformers"
      ],
      "execution_count": null,
      "outputs": [
        {
          "output_type": "stream",
          "text": [
            "Collecting transformers\n",
            "\u001b[?25l  Downloading https://files.pythonhosted.org/packages/b0/9e/5b80becd952d5f7250eaf8fc64b957077b12ccfe73e9c03d37146ab29712/transformers-4.6.0-py3-none-any.whl (2.3MB)\n",
            "\u001b[K     |████████████████████████████████| 2.3MB 9.1MB/s \n",
            "\u001b[?25hCollecting tokenizers<0.11,>=0.10.1\n",
            "\u001b[?25l  Downloading https://files.pythonhosted.org/packages/ae/04/5b870f26a858552025a62f1649c20d29d2672c02ff3c3fb4c688ca46467a/tokenizers-0.10.2-cp37-cp37m-manylinux2010_x86_64.whl (3.3MB)\n",
            "\u001b[K     |████████████████████████████████| 3.3MB 47.2MB/s \n",
            "\u001b[?25hCollecting sacremoses\n",
            "\u001b[?25l  Downloading https://files.pythonhosted.org/packages/75/ee/67241dc87f266093c533a2d4d3d69438e57d7a90abb216fa076e7d475d4a/sacremoses-0.0.45-py3-none-any.whl (895kB)\n",
            "\u001b[K     |████████████████████████████████| 901kB 44.2MB/s \n",
            "\u001b[?25hRequirement already satisfied: regex!=2019.12.17 in /usr/local/lib/python3.7/dist-packages (from transformers) (2019.12.20)\n",
            "Requirement already satisfied: importlib-metadata; python_version < \"3.8\" in /usr/local/lib/python3.7/dist-packages (from transformers) (4.0.1)\n",
            "Collecting huggingface-hub==0.0.8\n",
            "  Downloading https://files.pythonhosted.org/packages/a1/88/7b1e45720ecf59c6c6737ff332f41c955963090a18e72acbcbeac6b25e86/huggingface_hub-0.0.8-py3-none-any.whl\n",
            "Requirement already satisfied: requests in /usr/local/lib/python3.7/dist-packages (from transformers) (2.23.0)\n",
            "Requirement already satisfied: tqdm>=4.27 in /usr/local/lib/python3.7/dist-packages (from transformers) (4.41.1)\n",
            "Requirement already satisfied: filelock in /usr/local/lib/python3.7/dist-packages (from transformers) (3.0.12)\n",
            "Requirement already satisfied: numpy>=1.17 in /usr/local/lib/python3.7/dist-packages (from transformers) (1.19.5)\n",
            "Requirement already satisfied: packaging in /usr/local/lib/python3.7/dist-packages (from transformers) (20.9)\n",
            "Requirement already satisfied: joblib in /usr/local/lib/python3.7/dist-packages (from sacremoses->transformers) (1.0.1)\n",
            "Requirement already satisfied: click in /usr/local/lib/python3.7/dist-packages (from sacremoses->transformers) (7.1.2)\n",
            "Requirement already satisfied: six in /usr/local/lib/python3.7/dist-packages (from sacremoses->transformers) (1.15.0)\n",
            "Requirement already satisfied: zipp>=0.5 in /usr/local/lib/python3.7/dist-packages (from importlib-metadata; python_version < \"3.8\"->transformers) (3.4.1)\n",
            "Requirement already satisfied: typing-extensions>=3.6.4; python_version < \"3.8\" in /usr/local/lib/python3.7/dist-packages (from importlib-metadata; python_version < \"3.8\"->transformers) (3.7.4.3)\n",
            "Requirement already satisfied: idna<3,>=2.5 in /usr/local/lib/python3.7/dist-packages (from requests->transformers) (2.10)\n",
            "Requirement already satisfied: certifi>=2017.4.17 in /usr/local/lib/python3.7/dist-packages (from requests->transformers) (2020.12.5)\n",
            "Requirement already satisfied: urllib3!=1.25.0,!=1.25.1,<1.26,>=1.21.1 in /usr/local/lib/python3.7/dist-packages (from requests->transformers) (1.24.3)\n",
            "Requirement already satisfied: chardet<4,>=3.0.2 in /usr/local/lib/python3.7/dist-packages (from requests->transformers) (3.0.4)\n",
            "Requirement already satisfied: pyparsing>=2.0.2 in /usr/local/lib/python3.7/dist-packages (from packaging->transformers) (2.4.7)\n",
            "Installing collected packages: tokenizers, sacremoses, huggingface-hub, transformers\n",
            "Successfully installed huggingface-hub-0.0.8 sacremoses-0.0.45 tokenizers-0.10.2 transformers-4.6.0\n"
          ],
          "name": "stdout"
        }
      ]
    },
    {
      "cell_type": "code",
      "metadata": {
        "id": "7LWPjZvcKrWF"
      },
      "source": [
        "#installing required libraries\n",
        "import numpy as np\n",
        "from sklearn.model_selection import train_test_split\n",
        "from sklearn.linear_model import LogisticRegression\n",
        "from sklearn.tree import DecisionTreeClassifier\n",
        "from sklearn import svm\n",
        "from sklearn.model_selection import GridSearchCV\n",
        "from sklearn.model_selection import cross_val_score\n",
        "import torch\n",
        "import transformers as ppb\n",
        "import warnings\n",
        "warnings.filterwarnings('ignore')"
      ],
      "execution_count": null,
      "outputs": []
    },
    {
      "cell_type": "markdown",
      "metadata": {
        "id": "7rUpWgz3kCks"
      },
      "source": [
        "\n",
        "## Loading the Pre-trained distillBERT model"
      ]
    },
    {
      "cell_type": "code",
      "metadata": {
        "colab": {
          "base_uri": "https://localhost:8080/",
          "height": 331,
          "referenced_widgets": [
            "41bec5b797e648a29b34240fa273529e",
            "f4478aa115c24a02ada6c6bbe9ca7454",
            "faddf3b94dbb485394bbd8201c741502",
            "9c40a18a4d4544798ac3341519e3a905",
            "1f985c7f86a0491d9a3c67945b1ec974",
            "9ede07faacaa42dca969af706bf4e780",
            "ba9ac09809aa42faa9f4ced4099ba728",
            "5bec6086399e475cb853221f62c22536",
            "ff5955b9c07a489381f0130dea8250a5",
            "a939dd13a2864960a622626c01592845",
            "63f88390f5544c7c9509677ba2e68b51",
            "114df7c87b5248df9af93a144be5cf4f",
            "1e5f21e110e44409afa03acdfc8e9f9a",
            "cb818b4500f74b698b2632e95384bd33",
            "117d83c025a84a9bb63b21cb4037c3ec",
            "52037d9c9b4a4396bce9c52e1c39a931",
            "e289f04127664ca4a2e7d10d31368a6e",
            "ed679f5da7af4baaa54a0b938aab6eb9",
            "a6316b234f16474fb6e0f207df0818af",
            "366a7e8a443f42cbb0d9769a7fbfe8ff",
            "0375aa12fb384fe281ccf1b52ca6af25",
            "9f083005ca9f465298f4842a1e718cf7",
            "f5679b5e56ff44019cd38c31c9b9094b",
            "bc4615911fb84c1b857afa6cf100df51",
            "3313829584f64b5298e9d641acde07dc",
            "761b3ae820584dbca016a97838fd8023",
            "96d7b0ff6403424c83d7a52e1c4790ab",
            "76747ded01a34b2997af9aa27cc22c00",
            "972dfc62bb814c2480b5ba4f957fc11b",
            "aac1efc90ab544139654e4bb7873808a",
            "17796a94ddd04fb2ba5c32d858da9bde",
            "8e0a9e1cbd7a40b48b4ba8914238c6b7",
            "fd494a0f7cf848f792a53bf1c7a04432",
            "275565aa6f2840c6a3dc819b347795e3",
            "fdf53bdafe5f41e081c95eaf5f953296",
            "5cbe4e56d6ba4be191eb8a3b2f535c85",
            "5d4737bf4ebc4a2aa7ba741a865c9cfe",
            "76500b48182948d9a3efb2f01dedaf07",
            "e1a04b221b6942e989fe009aa1eaa911",
            "498552dc946d4e949773900a18cd7eb4"
          ]
        },
        "id": "nJS6mDK8KrY8",
        "outputId": "760e9737-7560-4cc5-c004-82b031eb6548"
      },
      "source": [
        "# For DistilBERT:\n",
        "model_class, tokenizer_class, pretrained_weights = (ppb.DistilBertModel, ppb.DistilBertTokenizer, 'distilbert-base-uncased')\n",
        "\n",
        "\n",
        "# Load pretrained model/tokenizer\n",
        "tokenizer = tokenizer_class.from_pretrained(pretrained_weights)\n",
        "model = model_class.from_pretrained(pretrained_weights)"
      ],
      "execution_count": null,
      "outputs": [
        {
          "output_type": "display_data",
          "data": {
            "application/vnd.jupyter.widget-view+json": {
              "model_id": "41bec5b797e648a29b34240fa273529e",
              "version_minor": 0,
              "version_major": 2
            },
            "text/plain": [
              "HBox(children=(FloatProgress(value=0.0, description='Downloading', max=231508.0, style=ProgressStyle(descripti…"
            ]
          },
          "metadata": {
            "tags": []
          }
        },
        {
          "output_type": "stream",
          "text": [
            "\n"
          ],
          "name": "stdout"
        },
        {
          "output_type": "display_data",
          "data": {
            "application/vnd.jupyter.widget-view+json": {
              "model_id": "ff5955b9c07a489381f0130dea8250a5",
              "version_minor": 0,
              "version_major": 2
            },
            "text/plain": [
              "HBox(children=(FloatProgress(value=0.0, description='Downloading', max=28.0, style=ProgressStyle(description_w…"
            ]
          },
          "metadata": {
            "tags": []
          }
        },
        {
          "output_type": "stream",
          "text": [
            "\n"
          ],
          "name": "stdout"
        },
        {
          "output_type": "display_data",
          "data": {
            "application/vnd.jupyter.widget-view+json": {
              "model_id": "e289f04127664ca4a2e7d10d31368a6e",
              "version_minor": 0,
              "version_major": 2
            },
            "text/plain": [
              "HBox(children=(FloatProgress(value=0.0, description='Downloading', max=466062.0, style=ProgressStyle(descripti…"
            ]
          },
          "metadata": {
            "tags": []
          }
        },
        {
          "output_type": "stream",
          "text": [
            "\n"
          ],
          "name": "stdout"
        },
        {
          "output_type": "display_data",
          "data": {
            "application/vnd.jupyter.widget-view+json": {
              "model_id": "3313829584f64b5298e9d641acde07dc",
              "version_minor": 0,
              "version_major": 2
            },
            "text/plain": [
              "HBox(children=(FloatProgress(value=0.0, description='Downloading', max=442.0, style=ProgressStyle(description_…"
            ]
          },
          "metadata": {
            "tags": []
          }
        },
        {
          "output_type": "stream",
          "text": [
            "\n"
          ],
          "name": "stdout"
        },
        {
          "output_type": "display_data",
          "data": {
            "application/vnd.jupyter.widget-view+json": {
              "model_id": "fd494a0f7cf848f792a53bf1c7a04432",
              "version_minor": 0,
              "version_major": 2
            },
            "text/plain": [
              "HBox(children=(FloatProgress(value=0.0, description='Downloading', max=267967963.0, style=ProgressStyle(descri…"
            ]
          },
          "metadata": {
            "tags": []
          }
        },
        {
          "output_type": "stream",
          "text": [
            "\n"
          ],
          "name": "stdout"
        },
        {
          "output_type": "stream",
          "text": [
            "Some weights of the model checkpoint at distilbert-base-uncased were not used when initializing DistilBertModel: ['vocab_layer_norm.weight', 'vocab_layer_norm.bias', 'vocab_projector.bias', 'vocab_projector.weight', 'vocab_transform.bias', 'vocab_transform.weight']\n",
            "- This IS expected if you are initializing DistilBertModel from the checkpoint of a model trained on another task or with another architecture (e.g. initializing a BertForSequenceClassification model from a BertForPreTraining model).\n",
            "- This IS NOT expected if you are initializing DistilBertModel from the checkpoint of a model that you expect to be exactly identical (initializing a BertForSequenceClassification model from a BertForSequenceClassification model).\n"
          ],
          "name": "stderr"
        }
      ]
    },
    {
      "cell_type": "markdown",
      "metadata": {
        "id": "AQXGApmHkSxp"
      },
      "source": [
        "**Preparing the Dataset**\n",
        "\n",
        "Before we can hand our sentences to distillBERT, we need to so some minimal processing to put them in the format it requires"
      ]
    },
    {
      "cell_type": "markdown",
      "metadata": {
        "id": "q1AqFfXtkadU"
      },
      "source": [
        "## Step1: Tokenization"
      ]
    },
    {
      "cell_type": "code",
      "metadata": {
        "colab": {
          "base_uri": "https://localhost:8080/"
        },
        "id": "1zwRNSVFKrel",
        "outputId": "4c74b451-fa6c-4e5a-9096-19e225079789"
      },
      "source": [
        "tokenized_ids = data['Review'].apply((lambda x: tokenizer.encode(x,add_special_tokens=True)))"
      ],
      "execution_count": null,
      "outputs": [
        {
          "output_type": "stream",
          "text": [
            "Token indices sequence length is longer than the specified maximum sequence length for this model (640 > 512). Running this sequence through the model will result in indexing errors\n"
          ],
          "name": "stderr"
        }
      ]
    },
    {
      "cell_type": "markdown",
      "metadata": {
        "id": "ASj3tPDDludT"
      },
      "source": [
        "## The below picture describes the process of tokenization"
      ]
    },
    {
      "cell_type": "markdown",
      "metadata": {
        "id": "pK4sLSVflo0x"
      },
      "source": [
        "![68747470733a2f2f6a616c616d6d61722e6769746875622e696f2f696d616765732f64697374696c424552542f626572742d64697374696c626572742d746f6b656e697a6174696f6e2d322d746f6b656e2d6964732e706e67.png](data:image/png;base64,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)"
      ]
    },
    {
      "cell_type": "code",
      "metadata": {
        "id": "8JEDg8DhKrhX"
      },
      "source": [
        "labels = data['Rating']"
      ],
      "execution_count": null,
      "outputs": []
    },
    {
      "cell_type": "markdown",
      "metadata": {
        "id": "mVXVqkcgmrmW"
      },
      "source": [
        "## Step2: Padding"
      ]
    },
    {
      "cell_type": "code",
      "metadata": {
        "id": "drydSSiZKrnH"
      },
      "source": [
        "from keras.preprocessing.sequence import pad_sequences\n",
        "MAX_LEN = 256\n",
        "padded = pad_sequences(tokenized_ids,maxlen=MAX_LEN,padding='post', truncating='post', dtype='long')"
      ],
      "execution_count": null,
      "outputs": []
    },
    {
      "cell_type": "code",
      "metadata": {
        "colab": {
          "base_uri": "https://localhost:8080/"
        },
        "id": "lca-MQ8EKrp0",
        "outputId": "c5873dff-164c-4653-fd71-1dbe190007e7"
      },
      "source": [
        "padded[0]"
      ],
      "execution_count": null,
      "outputs": [
        {
          "output_type": "execute_result",
          "data": {
            "text/plain": [
              "array([  101,  4830, 11183,  3138,  1996,  7746,  2011,  4040,  2007,\n",
              "        2023,  4310,  2047,  3117,  1012,  2016, 11791,  1037,  2088,\n",
              "        4406,  2151,  2500,  2096,  4363,  2009,  7933,  1999,  1996,\n",
              "        2613,  2088,  1012,  2023,  2003,  1037,  2200,  2092,  2517,\n",
              "        1998, 14036,  3117,  1012,  1045,  2001,  3243,  7622,  1998,\n",
              "       18896,  2011,  1996,  2126,  2008,  2023,  5024,  9994,  2001,\n",
              "        2764,  1010,  5026,  1996,  8141,  2157,  2046,  1996,  2088,\n",
              "        1997,  1996,  2466,  1012,  1045,  2001,  5117,  2802,  1998,\n",
              "        5791,  5632,  2026,  2051,  2985,  3752,  2009,  1012,  1045,\n",
              "        3866,  1996,  2839,  2458,  1999,  2023,  3117,  1012,  4830,\n",
              "       11183,  9005,  1037,  3459,  1997,  2152,  2082,  2493,  2040,\n",
              "        2941,  2552,  2066,  2152,  2082,  2493,  1012,  1045,  2428,\n",
              "       12315,  1996,  2755,  2008,  3904,  1997,  2068,  2020,  6908,\n",
              "        2046,  8146,  2521,  3458,  2037,  2086,  1010,  4496,  2106,\n",
              "        2027,  3066,  2007,  2824,  2004,  2065,  2027,  2018,  5109,\n",
              "        1997,  2166,  3325,  2104,  2037, 18000,  1012,  2009,  2001,\n",
              "        2200, 27150,  1998,  2794,  2000,  1996, 15650,  1998,  4254,\n",
              "        1997,  1996,  3117,  1012,  1996, 28956,  2090,  1996,  3494,\n",
              "        1999,  2023,  3117,  2020,  2036,  5621,  7244,  1012,  3452,\n",
              "        1010,  2023,  3117,  2001, 10392,  1012,  1045,  2064,  1004,\n",
              "        1001,  6445, 16576,  1025,  1056,  3524,  2000,  3191,  2062,\n",
              "        1998,  2000,  2424,  2041,  2054,  6433,  2279,  1999,  1996,\n",
              "        2186,  1012,  1045,  1004,  1001,  6445, 16576,  1025,  1040,\n",
              "        5791, 16755,  2023,  2834,  3117,  2011,  4830, 11183,  2000,\n",
              "        2216,  2040,  2215,  1037,  2210,  8038,  4569,  2007,  1037,\n",
              "        3294,  4310,  1004, 16880,  9994,  1012,  3531,  3602,  2008,\n",
              "        1045,  2363,  1037, 19394,  5649,  6100,  1997,  2023,  2147,\n",
              "        1999,  3863,  2005,  2019,  7481,  3319,  1012,   102,     0,\n",
              "           0,     0,     0,     0])"
            ]
          },
          "metadata": {
            "tags": []
          },
          "execution_count": 17
        }
      ]
    },
    {
      "cell_type": "code",
      "metadata": {
        "id": "k0q4NTv8Krst",
        "colab": {
          "base_uri": "https://localhost:8080/"
        },
        "outputId": "7339fed1-f53d-40d3-8f8c-af5fbaa887ab"
      },
      "source": [
        "padded.shape"
      ],
      "execution_count": null,
      "outputs": [
        {
          "output_type": "execute_result",
          "data": {
            "text/plain": [
              "(1000, 256)"
            ]
          },
          "metadata": {
            "tags": []
          },
          "execution_count": 18
        }
      ]
    },
    {
      "cell_type": "markdown",
      "metadata": {
        "id": "JUvn0D7Ym-qi"
      },
      "source": [
        "## Step3: Masking"
      ]
    },
    {
      "cell_type": "code",
      "metadata": {
        "colab": {
          "base_uri": "https://localhost:8080/"
        },
        "id": "UEEquHrMKrvk",
        "outputId": "8f5f44fe-38d9-498e-a5d8-92004f96efc9"
      },
      "source": [
        "attention_mask = np.where(padded != 0, 1, 0)\n",
        "attention_mask.shape"
      ],
      "execution_count": null,
      "outputs": [
        {
          "output_type": "execute_result",
          "data": {
            "text/plain": [
              "(1000, 256)"
            ]
          },
          "metadata": {
            "tags": []
          },
          "execution_count": 19
        }
      ]
    },
    {
      "cell_type": "code",
      "metadata": {
        "id": "cS1U0YtvKryW"
      },
      "source": [
        ""
      ],
      "execution_count": null,
      "outputs": []
    },
    {
      "cell_type": "code",
      "metadata": {
        "id": "6sCUTW5KKr0_"
      },
      "source": [
        ""
      ],
      "execution_count": null,
      "outputs": []
    },
    {
      "cell_type": "markdown",
      "metadata": {
        "id": "kNDBT6fKnq1Y"
      },
      "source": [
        "##  Now that we have our model and inputs ready, let's run our model!"
      ]
    },
    {
      "cell_type": "markdown",
      "metadata": {
        "id": "gO8cxBsdndcj"
      },
      "source": [
        "![68747470733a2f2f6a616c616d6d61722e6769746875622e696f2f696d616765732f64697374696c424552542f626572742d64697374696c626572742d7475746f7269616c2d73656e74656e63652d656d62656464696e672e706e67.png](data:image/png;base64,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)\n",
        "\n",
        "\n",
        "The model() function runs our sentences through BERT. The results of the processing will be returned into last_hidden_states."
      ]
    },
    {
      "cell_type": "code",
      "metadata": {
        "id": "GSR17zIYKr32"
      },
      "source": [
        "input_ids = torch.tensor(padded)  \n",
        "attention_mask = torch.tensor(attention_mask)\n",
        "\n",
        "with torch.no_grad():\n",
        "    last_hidden_states = model(input_ids, attention_mask=attention_mask)"
      ],
      "execution_count": null,
      "outputs": []
    },
    {
      "cell_type": "markdown",
      "metadata": {
        "id": "OcZNvxt_n648"
      },
      "source": [
        "\n",
        "The way BERT does sentence classification, is that it adds a token called [CLS] (for classification) at the beginning of every sentence. The output corresponding to that token can be thought of as an embedding for the entire sentence"
      ]
    },
    {
      "cell_type": "code",
      "metadata": {
        "id": "Yz4HckryKr9V"
      },
      "source": [
        ""
      ],
      "execution_count": null,
      "outputs": []
    },
    {
      "cell_type": "markdown",
      "metadata": {
        "id": "6mxpfog2qZ9z"
      },
      "source": [
        "![68747470733a2f2f6a616c616d6d61722e6769746875622e696f2f696d616765732f64697374696c424552542f626572742d6f75747075742d74656e736f722d73656c656374696f6e2e706e67.png](data:image/png;base64,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)"
      ]
    },
    {
      "cell_type": "code",
      "metadata": {
        "id": "_kvN7qMvKsAF"
      },
      "source": [
        "features = last_hidden_states[0][:,0,:].numpy()"
      ],
      "execution_count": null,
      "outputs": []
    },
    {
      "cell_type": "code",
      "metadata": {
        "id": "nnEf7ILIqlJg"
      },
      "source": [
        ""
      ],
      "execution_count": null,
      "outputs": []
    },
    {
      "cell_type": "code",
      "metadata": {
        "id": "ijsfSGY_KsDP"
      },
      "source": [
        "#Let's now split our datset into a training set and testing set\n",
        "X_train,X_test,y_train,y_test = train_test_split(features, labels , test_size = 0.2)"
      ],
      "execution_count": null,
      "outputs": []
    },
    {
      "cell_type": "code",
      "metadata": {
        "id": "cSKfHQ60KsF9",
        "colab": {
          "base_uri": "https://localhost:8080/"
        },
        "outputId": "08a526c4-3c85-4875-c4bd-106a426082e6"
      },
      "source": [
        "print(X_train.shape,X_test.shape)"
      ],
      "execution_count": null,
      "outputs": [
        {
          "output_type": "stream",
          "text": [
            "(800, 768) (200, 768)\n"
          ],
          "name": "stdout"
        }
      ]
    },
    {
      "cell_type": "code",
      "metadata": {
        "id": "71SE5U0OJ_Vy"
      },
      "source": [
        ""
      ],
      "execution_count": null,
      "outputs": []
    },
    {
      "cell_type": "code",
      "metadata": {
        "id": "bab29CeaJ_en"
      },
      "source": [
        ""
      ],
      "execution_count": null,
      "outputs": []
    },
    {
      "cell_type": "markdown",
      "metadata": {
        "id": "iJzS2GfWJmWF"
      },
      "source": [
        "## Classification model 1: Logistic Regression"
      ]
    },
    {
      "cell_type": "code",
      "metadata": {
        "id": "Jmh4GiQLKsIo",
        "colab": {
          "base_uri": "https://localhost:8080/"
        },
        "outputId": "a26444db-443c-408b-cbdc-8ebc0c1a34ac"
      },
      "source": [
        "#Hyperparameter  optimization\n",
        "parameters = {'C': np.linspace(0.0001, 100, 20)}\n",
        "grid_search = GridSearchCV(LogisticRegression(), parameters)\n",
        "grid_search.fit(X_train,y_train)\n",
        "\n",
        "print('best parameters: ', grid_search.best_params_)\n",
        "print('best scrores: ', grid_search.best_score_)"
      ],
      "execution_count": null,
      "outputs": [
        {
          "output_type": "stream",
          "text": [
            "best parameters:  {'C': 5.263252631578947}\n",
            "best scrores:  0.8724999999999999\n"
          ],
          "name": "stdout"
        }
      ]
    },
    {
      "cell_type": "code",
      "metadata": {
        "id": "LxIQKV20KsLd",
        "colab": {
          "base_uri": "https://localhost:8080/"
        },
        "outputId": "2f5bf3f1-fe06-48a1-aec9-92f83302fa3f"
      },
      "source": [
        "lr_clf = LogisticRegression(C=5.263)\n",
        "lr_clf.fit(X_train,y_train)"
      ],
      "execution_count": null,
      "outputs": [
        {
          "output_type": "execute_result",
          "data": {
            "text/plain": [
              "LogisticRegression(C=5.263, class_weight=None, dual=False, fit_intercept=True,\n",
              "                   intercept_scaling=1, l1_ratio=None, max_iter=100,\n",
              "                   multi_class='auto', n_jobs=None, penalty='l2',\n",
              "                   random_state=None, solver='lbfgs', tol=0.0001, verbose=0,\n",
              "                   warm_start=False)"
            ]
          },
          "metadata": {
            "tags": []
          },
          "execution_count": 28
        }
      ]
    },
    {
      "cell_type": "code",
      "metadata": {
        "id": "PyMInQQ4KsOR"
      },
      "source": [
        ""
      ],
      "execution_count": null,
      "outputs": []
    },
    {
      "cell_type": "markdown",
      "metadata": {
        "id": "x1DKb55uKR5q"
      },
      "source": [
        "## Evaluating the model"
      ]
    },
    {
      "cell_type": "code",
      "metadata": {
        "id": "hwMHY9viKsT1",
        "colab": {
          "base_uri": "https://localhost:8080/"
        },
        "outputId": "e2c87287-5fb7-4fde-df39-76175ccf8385"
      },
      "source": [
        "#check the accuracy against the testing dataset\n",
        "lr_clf.score(X_test,y_test)"
      ],
      "execution_count": null,
      "outputs": [
        {
          "output_type": "execute_result",
          "data": {
            "text/plain": [
              "0.865"
            ]
          },
          "metadata": {
            "tags": []
          },
          "execution_count": 29
        }
      ]
    },
    {
      "cell_type": "code",
      "metadata": {
        "id": "jkDoV4zcKsZY",
        "colab": {
          "base_uri": "https://localhost:8080/"
        },
        "outputId": "d3b00332-f0b0-4015-c885-0c90daafd8f9"
      },
      "source": [
        "#Check F1 score\n",
        "\n",
        "from sklearn.metrics import f1_score\n",
        "\n",
        "f1_score(y_test, lr_clf.predict(X_test))"
      ],
      "execution_count": null,
      "outputs": [
        {
          "output_type": "execute_result",
          "data": {
            "text/plain": [
              "0.918429003021148"
            ]
          },
          "metadata": {
            "tags": []
          },
          "execution_count": 34
        }
      ]
    },
    {
      "cell_type": "markdown",
      "metadata": {
        "id": "8d906m5sK70j"
      },
      "source": [
        "## Model2: Decision tree"
      ]
    },
    {
      "cell_type": "code",
      "metadata": {
        "id": "cLSq8QupKscM",
        "colab": {
          "base_uri": "https://localhost:8080/"
        },
        "outputId": "118f3370-30b4-4da2-8c34-4679d4107104"
      },
      "source": [
        "from sklearn.tree import DecisionTreeClassifier\n",
        "\n",
        "dt_clf = DecisionTreeClassifier()\n",
        "dt_clf.fit(X_train,y_train)\n"
      ],
      "execution_count": null,
      "outputs": [
        {
          "output_type": "execute_result",
          "data": {
            "text/plain": [
              "DecisionTreeClassifier(ccp_alpha=0.0, class_weight=None, criterion='gini',\n",
              "                       max_depth=None, max_features=None, max_leaf_nodes=None,\n",
              "                       min_impurity_decrease=0.0, min_impurity_split=None,\n",
              "                       min_samples_leaf=1, min_samples_split=2,\n",
              "                       min_weight_fraction_leaf=0.0, presort='deprecated',\n",
              "                       random_state=None, splitter='best')"
            ]
          },
          "metadata": {
            "tags": []
          },
          "execution_count": 31
        }
      ]
    },
    {
      "cell_type": "markdown",
      "metadata": {
        "id": "Yitc6a2aLRmB"
      },
      "source": [
        "## Evaluating the model"
      ]
    },
    {
      "cell_type": "code",
      "metadata": {
        "id": "W9nrqNhdKsfJ",
        "colab": {
          "base_uri": "https://localhost:8080/"
        },
        "outputId": "8887a9fd-9783-4d38-c9dc-b799c6c9d7e9"
      },
      "source": [
        "#check the accuracy against the testing dataset\n",
        "dt_clf.score(X_test,y_test)"
      ],
      "execution_count": null,
      "outputs": [
        {
          "output_type": "execute_result",
          "data": {
            "text/plain": [
              "0.805"
            ]
          },
          "metadata": {
            "tags": []
          },
          "execution_count": 32
        }
      ]
    },
    {
      "cell_type": "code",
      "metadata": {
        "id": "BskrfZHwKsh-",
        "colab": {
          "base_uri": "https://localhost:8080/"
        },
        "outputId": "2d3c1e81-b6c2-470f-b6b1-78986d99b5a6"
      },
      "source": [
        "#Check F1 score\n",
        "f1_score(y_test, dt_clf.predict(X_test))"
      ],
      "execution_count": null,
      "outputs": [
        {
          "output_type": "execute_result",
          "data": {
            "text/plain": [
              "0.8814589665653495"
            ]
          },
          "metadata": {
            "tags": []
          },
          "execution_count": 35
        }
      ]
    },
    {
      "cell_type": "code",
      "metadata": {
        "id": "RN35PVCyLONd"
      },
      "source": [
        ""
      ],
      "execution_count": null,
      "outputs": []
    },
    {
      "cell_type": "code",
      "metadata": {
        "id": "vvdik_g6LOQH"
      },
      "source": [
        ""
      ],
      "execution_count": null,
      "outputs": []
    },
    {
      "cell_type": "markdown",
      "metadata": {
        "id": "78HooDobMC8G"
      },
      "source": [
        "## Model3: SVC\n"
      ]
    },
    {
      "cell_type": "code",
      "metadata": {
        "colab": {
          "base_uri": "https://localhost:8080/"
        },
        "id": "e-VNiXOiMCNl",
        "outputId": "8fd1c3ed-20ee-4de0-f973-38535357dc81"
      },
      "source": [
        "svc_clf = svm.SVC(kernel='linear')\n",
        "svc_clf.fit(X_train,y_train)"
      ],
      "execution_count": null,
      "outputs": [
        {
          "output_type": "execute_result",
          "data": {
            "text/plain": [
              "SVC(C=1.0, break_ties=False, cache_size=200, class_weight=None, coef0=0.0,\n",
              "    decision_function_shape='ovr', degree=3, gamma='scale', kernel='linear',\n",
              "    max_iter=-1, probability=False, random_state=None, shrinking=True,\n",
              "    tol=0.001, verbose=False)"
            ]
          },
          "metadata": {
            "tags": []
          },
          "execution_count": 37
        }
      ]
    },
    {
      "cell_type": "code",
      "metadata": {
        "id": "Ji0MqgzyLOWG"
      },
      "source": [
        ""
      ],
      "execution_count": null,
      "outputs": []
    },
    {
      "cell_type": "markdown",
      "metadata": {
        "id": "5Lc27LEfMbzK"
      },
      "source": [
        "## Evaluating the model"
      ]
    },
    {
      "cell_type": "code",
      "metadata": {
        "colab": {
          "base_uri": "https://localhost:8080/"
        },
        "id": "qi6oZlSdLOYZ",
        "outputId": "99944455-62f9-425d-aa88-5628a10ec204"
      },
      "source": [
        "#check the accuracy against the testing dataset\n",
        "svc_clf.score(X_test,y_test)"
      ],
      "execution_count": null,
      "outputs": [
        {
          "output_type": "execute_result",
          "data": {
            "text/plain": [
              "0.855"
            ]
          },
          "metadata": {
            "tags": []
          },
          "execution_count": 38
        }
      ]
    },
    {
      "cell_type": "code",
      "metadata": {
        "colab": {
          "base_uri": "https://localhost:8080/"
        },
        "id": "KRL2Ts1VLObu",
        "outputId": "c57ac1ad-7422-4460-bbd6-0b730050e900"
      },
      "source": [
        "#Check F1 score\n",
        "f1_score(y_test, svc_clf.predict(X_test))"
      ],
      "execution_count": null,
      "outputs": [
        {
          "output_type": "execute_result",
          "data": {
            "text/plain": [
              "0.9123867069486405"
            ]
          },
          "metadata": {
            "tags": []
          },
          "execution_count": 39
        }
      ]
    },
    {
      "cell_type": "code",
      "metadata": {
        "id": "q_p_TY8mLOeN"
      },
      "source": [
        ""
      ],
      "execution_count": null,
      "outputs": []
    },
    {
      "cell_type": "code",
      "metadata": {
        "id": "aU91vi0PLOqy"
      },
      "source": [
        ""
      ],
      "execution_count": null,
      "outputs": []
    },
    {
      "cell_type": "code",
      "metadata": {
        "colab": {
          "base_uri": "https://localhost:8080/"
        },
        "id": "Opgyj2mOLOtU",
        "outputId": "a0ffebc6-4d30-478b-ad1b-039ad73ae2a6"
      },
      "source": [
        "#Comparing the accuracy of our models with a dummy classifier\n",
        "from sklearn.dummy import DummyClassifier\n",
        "clf = DummyClassifier()\n",
        "\n",
        "scores = cross_val_score(clf, X_train,y_train)\n",
        "print(\"Dummy classifier score: %0.3f (+/- %0.2f)\" % (scores.mean(), scores.std() * 2))"
      ],
      "execution_count": null,
      "outputs": [
        {
          "output_type": "stream",
          "text": [
            "Dummy classifier score: 0.724 (+/- 0.02)\n"
          ],
          "name": "stdout"
        }
      ]
    },
    {
      "cell_type": "markdown",
      "metadata": {
        "id": "-8VefTkOM6lS"
      },
      "source": [
        "## Conclusion: \n",
        "Our classification ML models clearly outperform the dummy classifier model."
      ]
    },
    {
      "cell_type": "code",
      "metadata": {
        "id": "wWsB3x5ILOwD"
      },
      "source": [
        ""
      ],
      "execution_count": null,
      "outputs": []
    },
    {
      "cell_type": "code",
      "metadata": {
        "id": "rKgisBomLOyo"
      },
      "source": [
        ""
      ],
      "execution_count": null,
      "outputs": []
    },
    {
      "cell_type": "code",
      "metadata": {
        "id": "MqMYAbEmNPhy"
      },
      "source": [
        ""
      ],
      "execution_count": null,
      "outputs": []
    },
    {
      "cell_type": "code",
      "metadata": {
        "id": "oAL0x2egNPlL"
      },
      "source": [
        ""
      ],
      "execution_count": null,
      "outputs": []
    },
    {
      "cell_type": "code",
      "metadata": {
        "id": "YB2msg6aNPn4"
      },
      "source": [
        ""
      ],
      "execution_count": null,
      "outputs": []
    },
    {
      "cell_type": "code",
      "metadata": {
        "id": "M4xcKJ2gNPqw"
      },
      "source": [
        ""
      ],
      "execution_count": null,
      "outputs": []
    },
    {
      "cell_type": "code",
      "metadata": {
        "id": "sXDlH7FcNPtU"
      },
      "source": [
        ""
      ],
      "execution_count": null,
      "outputs": []
    },
    {
      "cell_type": "code",
      "metadata": {
        "id": "aw6kg8lENPwJ"
      },
      "source": [
        ""
      ],
      "execution_count": null,
      "outputs": []
    }
  ]
}